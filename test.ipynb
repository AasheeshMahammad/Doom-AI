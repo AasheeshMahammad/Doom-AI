{
 "cells": [
  {
   "cell_type": "code",
   "execution_count": 1,
   "metadata": {},
   "outputs": [],
   "source": [
    "from tester import Tester\n",
    "from wrapper import DoomEnvironment"
   ]
  },
  {
   "cell_type": "code",
   "execution_count": 2,
   "metadata": {},
   "outputs": [
    {
     "name": "stderr",
     "output_type": "stream",
     "text": [
      "c:\\Users\\Aasheesh\\AppData\\Local\\Programs\\Python\\Python39\\lib\\site-packages\\stable_baselines3\\common\\evaluation.py:65: UserWarning: Evaluation environment is not wrapped with a ``Monitor`` wrapper. This may result in reporting modified episode lengths and rewards, if other wrappers happen to modify these. Consider wrapping environment first with ``Monitor`` wrapper.\n",
      "  warnings.warn(\n"
     ]
    },
    {
     "name": "stdout",
     "output_type": "stream",
     "text": [
      "Reward for episode 1 is 71.0\n",
      "Reward for episode 2 is 95.0\n",
      "Reward for episode 3 is 95.0\n",
      "Reward for episode 4 is 95.0\n",
      "Reward for episode 5 is 95.0\n",
      "Reward for episode 6 is 83.0\n",
      "Reward for episode 7 is 95.0\n",
      "Reward for episode 8 is 95.0\n",
      "Reward for episode 9 is 95.0\n",
      "Reward for episode 10 is 95.0\n",
      "Mean reward is 91.4\n"
     ]
    }
   ],
   "source": [
    "model_path = \"train/basic/best_model_70000\"\n",
    "tester = Tester(model_path,DoomEnvironment)\n",
    "tester.test()\n",
    "tester.close()"
   ]
  }
 ],
 "metadata": {
  "kernelspec": {
   "display_name": "Python 3.9.5 64-bit",
   "language": "python",
   "name": "python3"
  },
  "language_info": {
   "codemirror_mode": {
    "name": "ipython",
    "version": 3
   },
   "file_extension": ".py",
   "mimetype": "text/x-python",
   "name": "python",
   "nbconvert_exporter": "python",
   "pygments_lexer": "ipython3",
   "version": "3.9.5"
  },
  "orig_nbformat": 4,
  "vscode": {
   "interpreter": {
    "hash": "a94667c85bec71c2f7bef59ddbebc86b6123c54212a54eaa74fdc162571cd3be"
   }
  }
 },
 "nbformat": 4,
 "nbformat_minor": 2
}
