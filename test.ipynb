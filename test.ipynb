{
 "cells": [
  {
   "cell_type": "code",
   "execution_count": 1,
   "metadata": {},
   "outputs": [],
   "source": [
    "from tester import Tester\n",
    "from wrapper import DoomEnvironment"
   ]
  },
  {
   "cell_type": "code",
   "execution_count": 2,
   "metadata": {},
   "outputs": [
    {
     "name": "stderr",
     "output_type": "stream",
     "text": [
      "c:\\Users\\Aasheesh\\AppData\\Local\\Programs\\Python\\Python310\\lib\\site-packages\\stable_baselines3\\common\\evaluation.py:65: UserWarning: Evaluation environment is not wrapped with a ``Monitor`` wrapper. This may result in reporting modified episode lengths and rewards, if other wrappers happen to modify these. Consider wrapping environment first with ``Monitor`` wrapper.\n",
      "  warnings.warn(\n"
     ]
    },
    {
     "name": "stdout",
     "output_type": "stream",
     "text": [
      "[50.]\n",
      "[50.]\n",
      "[50.]\n",
      "[50.]\n",
      "[50.]\n",
      "[50.]\n",
      "[50.]\n",
      "[50.]\n",
      "[50.]\n",
      "[50.]\n",
      "[50.]\n",
      "[50.]\n",
      "[50.]\n",
      "[50.]\n",
      "[50.]\n",
      "[50.]\n",
      "[50.]\n",
      "[50.]\n",
      "[50.]\n",
      "[50.]\n",
      "[50.]\n",
      "[50.]\n",
      "[50.]\n",
      "[50.]\n",
      "[50.]\n",
      "Reward for episode 1 is 95.0\n",
      "Reward for episode 2 is 95.0\n",
      "Reward for episode 3 is 79.0\n",
      "Reward for episode 4 is 67.0\n",
      "Reward for episode 5 is 95.0\n",
      "Reward for episode 6 is 95.0\n",
      "Reward for episode 7 is 95.0\n",
      "Reward for episode 8 is 95.0\n",
      "Reward for episode 9 is 79.0\n",
      "Reward for episode 10 is 95.0\n",
      "Mean reward is 89.0\n"
     ]
    }
   ],
   "source": [
    "model_path = \"train/basic/best_model_70000\"\n",
    "tester = Tester(model_path,DoomEnvironment,config='./ViZDoom/scenarios/basic.cfg')\n",
    "tester.test(num_episodes=10)\n",
    "tester.close()"
   ]
  }
 ],
 "metadata": {
  "kernelspec": {
   "display_name": "Python 3.10.5 64-bit",
   "language": "python",
   "name": "python3"
  },
  "language_info": {
   "codemirror_mode": {
    "name": "ipython",
    "version": 3
   },
   "file_extension": ".py",
   "mimetype": "text/x-python",
   "name": "python",
   "nbconvert_exporter": "python",
   "pygments_lexer": "ipython3",
   "version": "3.10.7"
  },
  "orig_nbformat": 4,
  "vscode": {
   "interpreter": {
    "hash": "5c6077123a397cf21a091c090b33f4458770fd9da334906afeb58459952991e1"
   }
  }
 },
 "nbformat": 4,
 "nbformat_minor": 2
}
