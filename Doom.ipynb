{
 "cells": [
  {
   "cell_type": "code",
   "execution_count": 1,
   "metadata": {},
   "outputs": [],
   "source": [
    "from stable_baselines3.ppo import PPO\n",
    "from stable_baselines3.common.policies import ActorCriticCnnPolicy\n",
    "from stable_baselines3.common.policies import ActorCriticPolicy\n",
    "from stable_baselines3.common.vec_env.subproc_vec_env import SubprocVecEnv\n",
    "from stable_baselines3.common.vec_env.dummy_vec_env import DummyVecEnv\n",
    "from wrapper import DoomEnvironment\n",
    "from callback import CallBack"
   ]
  },
  {
   "cell_type": "code",
   "execution_count": 2,
   "metadata": {},
   "outputs": [],
   "source": [
    "map_name = \"deathmatch\"\n",
    "#DoomEnvironment.check_environment()\n",
    "#DoomEnvironment.show_difference(map_name)"
   ]
  },
  {
   "cell_type": "code",
   "execution_count": 3,
   "metadata": {},
   "outputs": [],
   "source": [
    "num_cpu = 6\n",
    "render = False\n",
    "one = num_cpu == 1"
   ]
  },
  {
   "cell_type": "code",
   "execution_count": 4,
   "metadata": {},
   "outputs": [],
   "source": [
    "if one:\n",
    "    env = DoomEnvironment(map_name=map_name,render=True)\n",
    "else:\n",
    "    env = [lambda : DoomEnvironment(map_name=map_name,render=render) for _ in range(num_cpu-1)]\n",
    "    env.append(lambda : DoomEnvironment(map_name=map_name,render=True))\n",
    "    env = SubprocVecEnv(env)"
   ]
  },
  {
   "cell_type": "code",
   "execution_count": 5,
   "metadata": {},
   "outputs": [],
   "source": [
    "callback = CallBack(check_freq=10_000,save_path=f\"train1/{map_name}\")"
   ]
  },
  {
   "cell_type": "code",
   "execution_count": 6,
   "metadata": {},
   "outputs": [],
   "source": [
    "#callback.n_calls = 60_001"
   ]
  },
  {
   "cell_type": "code",
   "execution_count": 7,
   "metadata": {
    "tags": []
   },
   "outputs": [
    {
     "name": "stdout",
     "output_type": "stream",
     "text": [
      "Using cuda device\n",
      "Wrapping the env in a VecTransposeImage.\n"
     ]
    }
   ],
   "source": [
    "model = PPO('CnnPolicy', env, verbose=1, learning_rate=0.01, n_steps=1_024, device='cuda')"
   ]
  },
  {
   "cell_type": "code",
   "execution_count": 8,
   "metadata": {},
   "outputs": [],
   "source": [
    "#model.load(f\"./train/{map_name}/final.zip\")\n",
    "if False:\n",
    "    model = PPO.load(f\"./train/{map_name}/final.zip\")\n",
    "    model.learning_rate = 0.1\n",
    "    model.verbose = 1\n",
    "    model.n_steps=1_024\n",
    "    model.device='cuda'\n",
    "    model.set_env(env)"
   ]
  },
  {
   "cell_type": "code",
   "execution_count": 9,
   "metadata": {
    "tags": []
   },
   "outputs": [
    {
     "name": "stdout",
     "output_type": "stream",
     "text": [
      "-----------------------------\n",
      "| time/              |      |\n",
      "|    fps             | 180  |\n",
      "|    iterations      | 1    |\n",
      "|    time_elapsed    | 33   |\n",
      "|    total_timesteps | 6144 |\n",
      "-----------------------------\n",
      "---------------------------------------\n",
      "| time/                   |           |\n",
      "|    fps                  | 156       |\n",
      "|    iterations           | 2         |\n",
      "|    time_elapsed         | 78        |\n",
      "|    total_timesteps      | 12288     |\n",
      "| train/                  |           |\n",
      "|    approx_kl            | 19.014175 |\n",
      "|    clip_fraction        | 0.847     |\n",
      "|    clip_range           | 0.2       |\n",
      "|    entropy_loss         | -1.07     |\n",
      "|    explained_variance   | 0.000384  |\n",
      "|    learning_rate        | 0.01      |\n",
      "|    loss                 | 16.8      |\n",
      "|    n_updates            | 10        |\n",
      "|    policy_gradient_loss | 0.359     |\n",
      "|    value_loss           | 148       |\n",
      "---------------------------------------\n",
      "--------------------------------------\n",
      "| time/                   |          |\n",
      "|    fps                  | 149      |\n",
      "|    iterations           | 3        |\n",
      "|    time_elapsed         | 123      |\n",
      "|    total_timesteps      | 18432    |\n",
      "| train/                  |          |\n",
      "|    approx_kl            | 26.24071 |\n",
      "|    clip_fraction        | 0.641    |\n",
      "|    clip_range           | 0.2      |\n",
      "|    entropy_loss         | -0.164   |\n",
      "|    explained_variance   | 0.164    |\n",
      "|    learning_rate        | 0.01     |\n",
      "|    loss                 | 12       |\n",
      "|    n_updates            | 20       |\n",
      "|    policy_gradient_loss | 0.18     |\n",
      "|    value_loss           | 58.2     |\n",
      "--------------------------------------\n",
      "--------------------------------------\n",
      "| time/                   |          |\n",
      "|    fps                  | 138      |\n",
      "|    iterations           | 4        |\n",
      "|    time_elapsed         | 177      |\n",
      "|    total_timesteps      | 24576    |\n",
      "| train/                  |          |\n",
      "|    approx_kl            | 38.55087 |\n",
      "|    clip_fraction        | 0.511    |\n",
      "|    clip_range           | 0.2      |\n",
      "|    entropy_loss         | -0.0194  |\n",
      "|    explained_variance   | 0.521    |\n",
      "|    learning_rate        | 0.01     |\n",
      "|    loss                 | 24.5     |\n",
      "|    n_updates            | 30       |\n",
      "|    policy_gradient_loss | 0.241    |\n",
      "|    value_loss           | 45.8     |\n",
      "--------------------------------------\n",
      "---------------------------------------\n",
      "| time/                   |           |\n",
      "|    fps                  | 133       |\n",
      "|    iterations           | 5         |\n",
      "|    time_elapsed         | 230       |\n",
      "|    total_timesteps      | 30720     |\n",
      "| train/                  |           |\n",
      "|    approx_kl            | 3.3682127 |\n",
      "|    clip_fraction        | 0.0406    |\n",
      "|    clip_range           | 0.2       |\n",
      "|    entropy_loss         | -0.00273  |\n",
      "|    explained_variance   | 0.632     |\n",
      "|    learning_rate        | 0.01      |\n",
      "|    loss                 | 22.3      |\n",
      "|    n_updates            | 40        |\n",
      "|    policy_gradient_loss | 0.00787   |\n",
      "|    value_loss           | 59.6      |\n",
      "---------------------------------------\n"
     ]
    }
   ],
   "source": [
    "\n",
    "model.learn(total_timesteps=150_000, callback=callback)"
   ]
  },
  {
   "cell_type": "code",
   "execution_count": null,
   "metadata": {},
   "outputs": [],
   "source": [
    "model.save(f\"./train1/{map_name}/final\")"
   ]
  },
  {
   "cell_type": "code",
   "execution_count": null,
   "metadata": {},
   "outputs": [],
   "source": [
    "env.close()"
   ]
  }
 ],
 "metadata": {
  "kernelspec": {
   "display_name": "Python 3.10.5 64-bit",
   "language": "python",
   "name": "python3"
  },
  "language_info": {
   "codemirror_mode": {
    "name": "ipython",
    "version": 3
   },
   "file_extension": ".py",
   "mimetype": "text/x-python",
   "name": "python",
   "nbconvert_exporter": "python",
   "pygments_lexer": "ipython3",
   "version": "3.10.7"
  },
  "vscode": {
   "interpreter": {
    "hash": "5c6077123a397cf21a091c090b33f4458770fd9da334906afeb58459952991e1"
   }
  }
 },
 "nbformat": 4,
 "nbformat_minor": 4
}
